{
 "cells": [
  {
   "cell_type": "heading",
   "metadata": {
    "collapsed": true
   },
   "level": 1,
   "source": [
    "# Testing Simple Idea of Combining Temporal Information"
   ]
  },
  {
   "cell_type": "code",
   "execution_count": 1,
   "metadata": {},
   "outputs": [],
   "source": [
    "# import package needed\n",
    "import os\n",
    "from skimage import io\n",
    "import matplotlib.pyplot as plt\n",
    "import matplotlib\n",
    "%matplotlib inline\n",
    "matplotlib.rcParams.update({'font.size': 18})"
   ]
  },
  {
   "cell_type": "code",
   "execution_count": 6,
   "metadata": {},
   "outputs": [],
   "source": [
    "os.getcwd()\n",
    "os.chdir('stage2/Cummulation/Test/p4True')"
   ]
  },
  {
   "cell_type": "heading",
   "metadata": {},
   "level": 2,
   "source": [
    "## Set up working directory"
   ]
  },
  {
   "cell_type": "code",
   "execution_count": 2,
   "metadata": {},
   "outputs": [
    {
     "data": {
      "text/plain": [
       "'/Users/mingrenshen/PycharmProjects/MedImgAnalysis'"
      ]
     },
     "execution_count": 2,
     "metadata": {},
     "output_type": "execute_result"
    }
   ],
   "source": [
    "os.getcwd()"
   ]
  },
  {
   "cell_type": "code",
   "execution_count": 5,
   "metadata": {},
   "outputs": [],
   "source": [
    "raw_root_dir = \"stage2/Cummulation/Test/\""
   ]
  },
  {
   "cell_type": "code",
   "execution_count": 6,
   "metadata": {},
   "outputs": [
    {
     "data": {
      "text/plain": [
       "['p2None', 'p4True', '.DS_Store']"
      ]
     },
     "execution_count": 6,
     "metadata": {},
     "output_type": "execute_result"
    }
   ],
   "source": [
    "os.listdir(raw_root_dir)\n",
    "#os.getcwd()"
   ]
  },
  {
   "cell_type": "heading",
   "metadata": {},
   "level": 2,
   "source": [
    "## Loop though images"
   ]
  },
  {
   "cell_type": "code",
   "execution_count": 11,
   "metadata": {},
   "outputs": [
    {
     "name": "stdout",
     "output_type": "stream",
     "text": [
      "============================\np2None\n[1, 2, 3, 4, 5, 6, 7, 8, 9, 10, 11, 12, 13, 14, 15, 16, 17, 18, 19, 20, 21, 22, 23, 24, 25, 26, 27, 28, 29, 30, 31, 32, 33]\n"
     ]
    },
    {
     "ename": "ValueError",
     "evalue": "The truth value of an array with more than one element is ambiguous. Use a.any() or a.all()",
     "traceback": [
      "\u001b[0;31m\u001b[0m",
      "\u001b[0;31mValueError\u001b[0mTraceback (most recent call last)",
      "\u001b[0;32m<ipython-input-11-b4db5e816928>\u001b[0m in \u001b[0;36m<module>\u001b[0;34m()\u001b[0m\n\u001b[1;32m     26\u001b[0m                                + '.jpg'  )\n\u001b[1;32m     27\u001b[0m             \u001b[0;31m# Now normalize img1\u001b[0m\u001b[0;34m\u001b[0m\u001b[0;34m\u001b[0m\u001b[0m\n\u001b[0;32m---> 28\u001b[0;31m             \u001b[0mimg1_norm\u001b[0m \u001b[0;34m=\u001b[0m \u001b[0mimg1\u001b[0m \u001b[0;34m/\u001b[0m \u001b[0mmax\u001b[0m\u001b[0;34m(\u001b[0m\u001b[0mimg1\u001b[0m\u001b[0;34m)\u001b[0m\u001b[0;34m\u001b[0m\u001b[0m\n\u001b[0m\u001b[1;32m     29\u001b[0m             img2 = io.imread ( raw_root_dir+'/'+folder + '/' \n\u001b[1;32m     30\u001b[0m                               \u001b[0;34m+\u001b[0m \u001b[0mpatientID\u001b[0m \u001b[0;34m+\u001b[0m\u001b[0;34m'_'\u001b[0m \u001b[0;34m+\u001b[0m\u001b[0;34m\u001b[0m\u001b[0m\n",
      "\u001b[0;31mValueError\u001b[0m: The truth value of an array with more than one element is ambiguous. Use a.any() or a.all()"
     ],
     "output_type": "error"
    }
   ],
   "source": [
    "\n",
    "for folder in os.listdir(raw_root_dir):\n",
    "    print(\"============================\")\n",
    "    print(folder)\n",
    "    if folder == '.DS_Store':\n",
    "        pass\n",
    "    else:\n",
    "        FrameIDList = list()\n",
    "        for f in os.listdir(raw_root_dir+'/'+folder):\n",
    "            fs = f.split ( '.')\n",
    "            if fs[1] == 'jpg':\n",
    "                patientID,FrameID = fs[0].split('_')\n",
    "                FrameIDList.append(int(FrameID)) # change to int for sorting\n",
    "        \n",
    "        FrameIDList = sorted(FrameIDList)\n",
    "        print(FrameIDList)\n",
    "        \n",
    "        '''\n",
    "        Difference Images Checking\n",
    "        '''\n",
    "        \n",
    "        for i in range(1,len(FrameIDList)):\n",
    "            img1 = io.imread ( raw_root_dir+'/'+folder + '/' \n",
    "                              + patientID +'_' + \n",
    "                               str(FrameIDList[i-1] )\n",
    "                               + '.jpg'  )\n",
    "            # Now normalize img1\n",
    "            img1_norm = img1 / max(img1)\n",
    "            img2 = io.imread ( raw_root_dir+'/'+folder + '/' \n",
    "                              + patientID +'_' + \n",
    "                               str(FrameIDList[i] )\n",
    "                              + '.jpg'  )\n",
    "            # Now normalize img2\n",
    "            img2_norm = img2 / max(img2)\n",
    "            img = img2_norm - img1_norm\n",
    "            fig = plt.figure()\n",
    "            plt.imshow(img, cmap='gray')\n",
    "        \n",
    "        # '''\n",
    "        # Sum of all images to check progress\n",
    "        # '''\n",
    "        # img = img1 = io.imread ( raw_root_dir+'/'+folder + '/' \n",
    "        #                       + patientID +'_' + \n",
    "        #                        str(FrameIDList[0] )\n",
    "        #                        + '.tif'  )\n",
    "        # for i in range(1,len(FrameIDList)):\n",
    "        #     img1 = io.imread ( raw_root_dir+'/'+folder + '/' \n",
    "        #                       + patientID +'_' + \n",
    "        #                        str(FrameIDList[i] )\n",
    "        #                        + '.tif'  )\n",
    "        # #     img = img1\n",
    "        # \n",
    "        # fig = plt.figure()\n",
    "        # plt.imshow(img, cmap='gray')"
   ]
  },
  {
   "cell_type": "code",
   "execution_count": null,
   "metadata": {},
   "outputs": [],
   "source": []
  }
 ],
 "metadata": {
  "kernelspec": {
   "display_name": "Python 2",
   "language": "python",
   "name": "python2"
  },
  "language_info": {
   "codemirror_mode": {
    "name": "ipython",
    "version": 2
   },
   "file_extension": ".py",
   "mimetype": "text/x-python",
   "name": "python",
   "nbconvert_exporter": "python",
   "pygments_lexer": "ipython2",
   "version": "2.7.6"
  }
 },
 "nbformat": 4,
 "nbformat_minor": 0
}
