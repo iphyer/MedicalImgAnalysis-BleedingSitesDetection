{
 "cells": [
  {
   "cell_type": "markdown",
   "metadata": {},
   "source": [
    "# Notebook to train in ChainerCV"
   ]
  },
  {
   "cell_type": "code",
   "execution_count": 1,
   "metadata": {},
   "outputs": [],
   "source": [
    "%load_ext autoreload\n",
    "%autoreload "
   ]
  },
  {
   "cell_type": "markdown",
   "metadata": {},
   "source": [
    "## Set working directory"
   ]
  },
  {
   "cell_type": "code",
   "execution_count": 1,
   "metadata": {},
   "outputs": [
    {
     "data": {
      "text/plain": [
       "'/Users/mingrenshen/PycharmProjects/MedImgAnalysis/stage1'"
      ]
     },
     "execution_count": 1,
     "metadata": {},
     "output_type": "execute_result"
    }
   ],
   "source": [
    "# if get error \"ImportError: No module named utils\"\n",
    "# change working directory\n",
    "\n",
    "# ONLY NEED TO RUN THIS CELL ONCE\n",
    "\n",
    "import os\n",
    "os.chdir('./stage1')\n",
    "os.getcwd()"
   ]
  },
  {
   "cell_type": "markdown",
   "metadata": {},
   "source": [
    "### Load Package"
   ]
  },
  {
   "cell_type": "code",
   "execution_count": 3,
   "metadata": {},
   "outputs": [],
   "source": [
    "import numpy as np\n",
    "import chainer\n",
    "from chainer.datasets import TransformDataset\n",
    "from chainer import training\n",
    "from chainer.training import extensions\n",
    "from chainer.training.triggers import ManualScheduleTrigger\n",
    "from chainercv.extensions import DetectionVOCEvaluator\n",
    "from chainercv.links import FasterRCNNVGG16\n",
    "from chainercv.links.model.faster_rcnn import FasterRCNNTrainChain\n",
    "from chainercv import transforms\n",
    "from utils import DetectionDataset\n",
    "from utils import rotate_bbox, random_resize, random_distort, random_crop_with_bbox_constraints\n",
    "import matplotlib.pyplot as plt"
   ]
  },
  {
   "cell_type": "markdown",
   "metadata": {},
   "source": [
    "## Programe"
   ]
  },
  {
   "cell_type": "code",
   "execution_count": 4,
   "metadata": {},
   "outputs": [],
   "source": [
    "root = './Data'"
   ]
  },
  {
   "cell_type": "code",
   "execution_count": 5,
   "metadata": {},
   "outputs": [
    {
     "name": "stdout",
     "output_type": "stream",
     "text": [
      "('total number of training images: ', 196)\n",
      "('total number of test images: ', 22)\n",
      "('type of defects: ', 'spot')\n"
     ]
    }
   ],
   "source": [
    "dataset = DetectionDataset(data_dir=root, split='train')\n",
    "dataset_test = DetectionDataset(data_dir=root, split='test')\n",
    "\n",
    "# DataSet Statistics\n",
    "print('total number of training images: ', len(dataset))\n",
    "print('total number of test images: ', len(dataset_test))"
   ]
  },
  {
   "cell_type": "code",
   "execution_count": null,
   "metadata": {},
   "outputs": [],
   "source": []
  }
 ],
 "metadata": {
  "kernelspec": {
   "display_name": "Python [conda env:BleedingSites] *",
   "language": "python",
   "name": "conda-env-BleedingSites-py"
  },
  "language_info": {
   "codemirror_mode": {
    "name": "ipython",
    "version": 3
   },
   "file_extension": ".py",
   "mimetype": "text/x-python",
   "name": "python",
   "nbconvert_exporter": "python",
   "pygments_lexer": "ipython3",
   "version": "3.6.7"
  }
 },
 "nbformat": 4,
 "nbformat_minor": 2
}
