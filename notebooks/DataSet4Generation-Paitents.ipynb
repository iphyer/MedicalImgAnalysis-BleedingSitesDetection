{
 "cells": [
  {
   "cell_type": "code",
   "execution_count": 26,
   "metadata": {
    "collapsed": true
   },
   "outputs": [],
   "source": [
    "# Set up the root folder to check\n",
    "raw_root_dir = \"./data/DataSet4/raw/AllImagesBYPatient\"\n",
    "result_folder = \"./data/DataSet4/processed_Patients/\"\n"
   ]
  },
  {
   "cell_type": "code",
   "execution_count": 27,
   "metadata": {},
   "outputs": [],
   "source": [
    "# Import packages\n",
    "import os\n",
    "from shutil import copy\n",
    "from skimage import io\n",
    "\n",
    "#os.getcwd()"
   ]
  },
  {
   "cell_type": "code",
   "execution_count": 29,
   "metadata": {},
   "outputs": [],
   "source": [
    "# Calculate Basic Details of the \n",
    "patientFile = \"stat_patiet.csv\"\n",
    "\n",
    "with open(patientFile,'w') as fp:\n",
    "    fp.write(\"PatientID,ClassLabel,TotImgNum,PosImgNum \\n\")\n",
    "    for folder in os.listdir(raw_root_dir):  # type: str\n",
    "        if folder == \".DS_Store\":\n",
    "            pass\n",
    "        elif folder == \"NonBleed\":\n",
    "            if not os.path.exists(result_folder+'/' + folder):\n",
    "                    os.makedirs(result_folder+'/' + folder)\n",
    "            for patient in os.listdir(raw_root_dir+'/'+folder):\n",
    "                if not os.path.exists(result_folder + '/' + folder+ '/' + patient):\n",
    "                    os.makedirs(result_folder+ '/' + folder +'/' + patient)\n",
    "                images = os.listdir(raw_root_dir + '/'+folder +'/' + patient)\n",
    "                # record patients information\n",
    "                fp.write(\"%s,%d,%d,%d \\n\" % (patient,0,len(images),0))\n",
    "                # convert images\n",
    "                for f in images:\n",
    "                    \timg = io.imread ( raw_root_dir + '/'+folder +'/' + patient + '/' + f )\n",
    "                        imgName = result_folder+ '/'+ folder+ '/' + patient + '/' + f.rstrip('.tif')\n",
    "                        io.imsave ( imgName + \".jpg\" , img , quality = 100 )\n",
    "        elif folder == \"Bleed\":\n",
    "            if not os.path.exists(result_folder+'/' + folder):\n",
    "                os.makedirs(result_folder+'/' + folder)\n",
    "            for patient in os.listdir(raw_root_dir+'/'+folder):\n",
    "                if not os.path.exists(result_folder + '/' + folder+ '/' + patient):\n",
    "                    os.makedirs(result_folder+ '/' + folder +'/' + patient)\n",
    "                files = os.listdir(raw_root_dir + '/'+folder +'/' + patient)\n",
    "                imgfiles = list()\n",
    "                csvfiles = list()\n",
    "                for f in files:\n",
    "                    fs = f.split('.')\n",
    "                    if fs[-1] == 'csv':\n",
    "                        csvfiles.append(f)\n",
    "                    elif fs[-1] == 'tif':\n",
    "                        imgfiles.append(f)\n",
    "                # record all patients information\n",
    "                fp.write(\"%s,%d,%d,%d \\n\" % (patient,1,len(imgfiles),len(csvfiles)))\n",
    "                # convert images and copy csv files\n",
    "                ## convert images\n",
    "                for f in imgfiles:\n",
    "                    img = io.imread ( raw_root_dir + '/'+ folder +'/' + patient + '/' + f )\n",
    "                    imgName = result_folder+ '/'+ folder+ '/' + patient + '/' + f.rstrip('.tif')\n",
    "                    io.imsave ( imgName + \".jpg\" , img , quality = 100 )\n",
    "                ## copy csv\n",
    "                for f in csvfiles:\n",
    "                    copy ( raw_root_dir + '/'+ folder +'/' + patient + '/' + f , result_folder+ '/'+ folder+ '/' + patient + '/' + f)             "
   ]
  },
  {
   "cell_type": "code",
   "execution_count": null,
   "metadata": {},
   "outputs": [],
   "source": [
    "\"\"\"\n",
    "\n",
    "70 Patietns ==> 47 Postive , 23 Negative\n",
    "\n",
    "Trainig&Validation  ==> 63 Patientns ( 42 Postive, 21 Negative)\n",
    "Test ==>  7 Patiets(5 Postive, 2 Negative)\n",
    "\n",
    "Testing Patients : \n",
    "1,18,48,60,72\n",
    "\n",
    "\"\"\""
   ]
  }
 ],
 "metadata": {
  "kernelspec": {
   "display_name": "Python 2",
   "language": "python",
   "name": "python2"
  },
  "language_info": {
   "codemirror_mode": {
    "name": "ipython",
    "version": 2
   },
   "file_extension": ".py",
   "mimetype": "text/x-python",
   "name": "python",
   "nbconvert_exporter": "python",
   "pygments_lexer": "ipython2",
   "version": "2.7.6"
  }
 },
 "nbformat": 4,
 "nbformat_minor": 0
}
