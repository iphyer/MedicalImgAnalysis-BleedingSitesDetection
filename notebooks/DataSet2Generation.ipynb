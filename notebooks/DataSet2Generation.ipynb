{
 "cells": [
  {
   "cell_type": "markdown",
   "metadata": {
    "collapsed": true
   },
   "source": [
    "#generating data set 2"
   ]
  },
  {
   "cell_type": "markdown",
   "metadata": {},
   "source": [
    "## data source\n",
    "* all labeled data on Dec 1st 2018"
   ]
  },
  {
   "cell_type": "markdown",
   "metadata": {},
   "source": [
    "## Program Change Log\n",
    "* 2018-12-01 : Data Set generatation"
   ]
  },
  {
   "cell_type": "markdown",
   "metadata": {},
   "source": [
    "### Data Path"
   ]
  },
  {
   "cell_type": "code",
   "execution_count": 1,
   "metadata": {},
   "outputs": [],
   "source": [
    "raw_file_dir = \"./data/DataSet2/raw/Bleeding Images Labeled/\""
   ]
  },
  {
   "cell_type": "code",
   "execution_count": 2,
   "metadata": {},
   "outputs": [],
   "source": [
    "# Processed Results Directory\n",
    "imgDir = \"./data/DataSet2/processedSingleClass/IMG\"\n",
    "csvDir = \"./data/DataSet2/processedSingleClass/CSV\"\n",
    "txtDir = \"./data/DataSet2/processedSingleClass/TXT\""
   ]
  },
  {
   "cell_type": "markdown",
   "metadata": {},
   "source": [
    "### Package Imported"
   ]
  },
  {
   "cell_type": "code",
   "execution_count": 3,
   "metadata": {},
   "outputs": [],
   "source": [
    "import os"
   ]
  },
  {
   "cell_type": "code",
   "execution_count": 4,
   "metadata": {},
   "outputs": [],
   "source": [
    "# Import User Defined Functions in utils\n",
    "from utils.prepare_vaild_singleClass  import createFolder\n",
    "from utils.prepare_vaild_singleClass  import splitFiles_withBBox\n",
    "from utils.prepare_vaild_singleClass  import loopAllImg"
   ]
  },
  {
   "cell_type": "markdown",
   "metadata": {},
   "source": [
    "### Programe"
   ]
  },
  {
   "cell_type": "code",
   "execution_count": 5,
   "metadata": {},
   "outputs": [
    {
     "data": {
      "text/plain": [
       "['Patient 45',\n 'Patient 42',\n 'Patient 18',\n 'Patient 20',\n 'Patient 11',\n 'Patient 44',\n 'Patient 17',\n 'Patient 6',\n 'Patient 19',\n 'Patient 1',\n 'Patient 35',\n 'Patient 33',\n 'Patient 4',\n 'Patient 24',\n 'Patient 12',\n 'Patient 15',\n 'Patient 25',\n 'Patient 5',\n 'Patient 22',\n 'Patient 40']"
      ]
     },
     "execution_count": 5,
     "metadata": {},
     "output_type": "execute_result"
    }
   ],
   "source": [
    "os.listdir(raw_file_dir)"
   ]
  },
  {
   "cell_type": "code",
   "execution_count": 6,
   "metadata": {},
   "outputs": [
    {
     "name": "stdout",
     "output_type": "stream",
     "text": [
      "start the pre-processing scripts\nInitialization\n"
     ]
    }
   ],
   "source": [
    "print(\"start the pre-processing scripts\")\n",
    "print(\"Initialization\")\n",
    "createFolder(imgDir)\n",
    "createFolder(csvDir)\n",
    "createFolder(txtDir)"
   ]
  },
  {
   "cell_type": "code",
   "execution_count": 7,
   "metadata": {},
   "outputs": [
    {
     "name": "stdout",
     "output_type": "stream",
     "text": [
      "generate bbox from CSV \n and pair every JPG with TXT\n"
     ]
    },
    {
     "name": "stdout",
     "output_type": "stream",
     "text": [
      "generate bbox from CSV \n and pair every JPG with TXT\n"
     ]
    },
    {
     "name": "stdout",
     "output_type": "stream",
     "text": [
      "generate bbox from CSV \n and pair every JPG with TXT\n"
     ]
    },
    {
     "name": "stdout",
     "output_type": "stream",
     "text": [
      "generate bbox from CSV \n and pair every JPG with TXT\n"
     ]
    },
    {
     "name": "stdout",
     "output_type": "stream",
     "text": [
      "generate bbox from CSV \n and pair every JPG with TXT\n"
     ]
    },
    {
     "name": "stdout",
     "output_type": "stream",
     "text": [
      "generate bbox from CSV \n and pair every JPG with TXT\n"
     ]
    },
    {
     "name": "stdout",
     "output_type": "stream",
     "text": [
      "generate bbox from CSV \n and pair every JPG with TXT\n"
     ]
    },
    {
     "name": "stdout",
     "output_type": "stream",
     "text": [
      "generate bbox from CSV \n and pair every JPG with TXT\n"
     ]
    },
    {
     "name": "stdout",
     "output_type": "stream",
     "text": [
      "generate bbox from CSV \n and pair every JPG with TXT\n"
     ]
    },
    {
     "name": "stdout",
     "output_type": "stream",
     "text": [
      "generate bbox from CSV \n and pair every JPG with TXT\n"
     ]
    },
    {
     "name": "stdout",
     "output_type": "stream",
     "text": [
      "generate bbox from CSV \n and pair every JPG with TXT\n"
     ]
    },
    {
     "name": "stdout",
     "output_type": "stream",
     "text": [
      "generate bbox from CSV \n and pair every JPG with TXT\n"
     ]
    },
    {
     "name": "stdout",
     "output_type": "stream",
     "text": [
      "generate bbox from CSV \n and pair every JPG with TXT\n"
     ]
    },
    {
     "name": "stdout",
     "output_type": "stream",
     "text": [
      "generate bbox from CSV \n and pair every JPG with TXT\n"
     ]
    },
    {
     "name": "stdout",
     "output_type": "stream",
     "text": [
      "generate bbox from CSV \n and pair every JPG with TXT\n"
     ]
    },
    {
     "name": "stdout",
     "output_type": "stream",
     "text": [
      "generate bbox from CSV \n and pair every JPG with TXT\n"
     ]
    },
    {
     "name": "stdout",
     "output_type": "stream",
     "text": [
      "generate bbox from CSV \n and pair every JPG with TXT\n"
     ]
    },
    {
     "name": "stdout",
     "output_type": "stream",
     "text": [
      "generate bbox from CSV \n and pair every JPG with TXT\n"
     ]
    },
    {
     "name": "stdout",
     "output_type": "stream",
     "text": [
      "generate bbox from CSV \n and pair every JPG with TXT\n"
     ]
    },
    {
     "name": "stdout",
     "output_type": "stream",
     "text": [
      "generate bbox from CSV \n and pair every JPG with TXT\nAll Done!\n"
     ]
    }
   ],
   "source": [
    "for patient in os.listdir(raw_file_dir):\n",
    "\tsplitFiles_withBBox(raw_file_dir+patient, imgDir, csvDir)\n",
    "\tprint(\"generate bbox from CSV \\n and pair every JPG with TXT\")\n",
    "\tloopAllImg(imgDir, csvDir, txtDir)\n",
    "\n",
    "print(\"All Done!\")"
   ]
  },
  {
   "cell_type": "markdown",
   "metadata": {},
   "source": [
    "## Notes\n",
    "\n",
    "### After finishing this scripts, all the results of generating dataset can be found in `/data/DataSet2/processed/`"
   ]
  },
  {
   "cell_type": "code",
   "execution_count": null,
   "metadata": {},
   "outputs": [],
   "source": []
  }
 ],
 "metadata": {
  "kernelspec": {
   "display_name": "Python 2",
   "language": "python",
   "name": "python2"
  },
  "language_info": {
   "codemirror_mode": {
    "name": "ipython",
    "version": 2
   },
   "file_extension": ".py",
   "mimetype": "text/x-python",
   "name": "python",
   "nbconvert_exporter": "python",
   "pygments_lexer": "ipython2",
   "version": "2.7.6"
  }
 },
 "nbformat": 4,
 "nbformat_minor": 0
}
