{
 "cells": [
  {
   "cell_type": "heading",
   "metadata": {
    "collapsed": true
   },
   "level": 1,
   "source": [
    "#generating data set 3"
   ]
  },
  {
   "cell_type": "heading",
   "metadata": {},
   "level": 3,
   "source": [
    "## data source\n",
    "* all labeled data on Dec 20th 2018"
   ]
  },
  {
   "cell_type": "heading",
   "metadata": {},
   "level": 3,
   "source": [
    "## Program Change Log"
   ]
  },
  {
   "cell_type": "heading",
   "metadata": {},
   "level": 5,
   "source": [
    "\n",
    "* 2019-01-11 : Data Set generatation"
   ]
  },
  {
   "cell_type": "heading",
   "metadata": {},
   "level": 4,
   "source": [
    "### Data Path"
   ]
  },
  {
   "cell_type": "code",
   "execution_count": 1,
   "metadata": {},
   "outputs": [],
   "source": [
    "raw_root_dir = \"./data/DataSet3/raw/\""
   ]
  },
  {
   "cell_type": "code",
   "execution_count": 2,
   "metadata": {},
   "outputs": [],
   "source": [
    "# Bleeding1 = \"Bleeding Images Labeled\"\n",
    "# Bleeding2 = \"Second Upload Labeled bleed images\"\n",
    "# non_Bleeding = \"Nonbleeding Cases\""
   ]
  },
  {
   "cell_type": "code",
   "execution_count": 3,
   "metadata": {},
   "outputs": [],
   "source": [
    "# Processed Results Directory\n",
    "imgDir = \"./data/DataSet3/processed_DataSet_Classify/IMG\"\n",
    "#csvDir = \"./data/DataSet3/processed_DataSet_Classify/CSV\"\n",
    "#txtDir = \"./data/DataSet3/processed_DataSet_Classify/TXT\""
   ]
  },
  {
   "cell_type": "heading",
   "metadata": {},
   "level": 4,
   "source": [
    "### Package Imported"
   ]
  },
  {
   "cell_type": "code",
   "execution_count": 4,
   "metadata": {},
   "outputs": [],
   "source": [
    "import os\n",
    "from shutil import copy"
   ]
  },
  {
   "cell_type": "code",
   "execution_count": 5,
   "metadata": {},
   "outputs": [],
   "source": [
    "# Import User Defined Functions in utils\n",
    "from utils.prepare_classifier import createFolder\n",
    "from utils.prepare_classifier import covertTIF2JPG \n",
    "\n",
    "# from utils.prepare_vaild_singleClass  import splitFiles_withBBox\n",
    "# from utils.prepare_vaild_singleClass  import loopAllImg"
   ]
  },
  {
   "cell_type": "heading",
   "metadata": {},
   "level": 4,
   "source": [
    "### Generate Data for Image Classification"
   ]
  },
  {
   "cell_type": "code",
   "execution_count": 6,
   "metadata": {},
   "outputs": [
    {
     "data": {
      "text/plain": [
       "['Bleeding Images Labeled',\n 'Second Upload Labeled bleed images',\n 'Nonbleeding Cases ']"
      ]
     },
     "execution_count": 6,
     "metadata": {},
     "output_type": "execute_result"
    }
   ],
   "source": [
    "os.listdir(raw_root_dir)"
   ]
  },
  {
   "cell_type": "code",
   "execution_count": 7,
   "metadata": {},
   "outputs": [
    {
     "name": "stdout",
     "output_type": "stream",
     "text": [
      "start the pre-processing scripts\nInitialization\n"
     ]
    }
   ],
   "source": [
    "print(\"start the pre-processing scripts\")\n",
    "print(\"Initialization\")\n",
    "createFolder(imgDir)"
   ]
  },
  {
   "cell_type": "code",
   "execution_count": 8,
   "metadata": {},
   "outputs": [
    {
     "name": "stdout",
     "output_type": "stream",
     "text": [
      "All Done!\nThere are 69 patients' data\nIn total 1125 imagegs\nAmong them, \n \t 548 postive(Bleeding) imagegs \n \t 577 negative(non Bleedingg) imagegs \n"
     ]
    }
   ],
   "source": [
    "num_patient = 0\n",
    "num_images = 0\n",
    "num_label_1 = 0\n",
    "num_label_0 = 0\n",
    "\n",
    "with open ( \"label.csv\" , 'w' ) as label_csv_file :\n",
    "    for folder in os.listdir(raw_root_dir):\n",
    "        for patient in os.listdir(raw_root_dir + folder):\n",
    "            dataDir = raw_root_dir + folder + '/' + patient\n",
    "            for f in os.listdir ( dataDir ):\n",
    "                    fs = f.split ( '.')\n",
    "                    if fs[1] == \"tif\":\n",
    "                        covertTIF2JPG ( dataDir + '/' + fs [ 0 ] + '.tif' , fs [ 0 ] )\n",
    "                        copy ( fs [ 0 ] + '.jpg' , imgDir )\n",
    "                        os.remove(fs [ 0 ] + '.jpg')\n",
    "                        num_images += 1\n",
    "                        # assign labels for this imaegs\n",
    "                        if (os.path.exists ( dataDir + \"/\" + fs [ 0 ] + '.csv' )) :\n",
    "                            label_csv_file.write(\"%s , %d \\n\" % (fs [ 0 ] + '.jpg', 1))\n",
    "                            num_label_1 += 1\n",
    "                        else:\n",
    "                            label_csv_file.write(\"%s , %d \\n\" % (fs [ 0 ] + '.jpg', 0))\n",
    "                            num_label_0 += 1\n",
    "            num_patient += 1\n",
    "\n",
    "print(\"All Done!\")\n",
    "print(\"There are %d patients' data\" % num_patient)\n",
    "print(\"In total %d imagegs\" % num_images)\n",
    "print(\"Among them, \\n \\t %d postive(Bleeding) imagegs \\n \\t %d negative(non Bleedingg) imagegs \" %(num_label_1,num_label_0))"
   ]
  },
  {
   "cell_type": "heading",
   "metadata": {},
   "level": 4,
   "source": [
    "## Final Notes"
   ]
  },
  {
   "cell_type": "heading",
   "metadata": {},
   "level": 5,
   "source": [
    "\n",
    "### After finishing this scripts, Check `label.csv` for all the labels"
   ]
  },
  {
   "cell_type": "heading",
   "metadata": {},
   "level": 2,
   "source": [
    "# Generate Data For Object Detection"
   ]
  },
  {
   "cell_type": "code",
   "execution_count": null,
   "metadata": {},
   "outputs": [],
   "source": []
  }
 ],
 "metadata": {
  "kernelspec": {
   "display_name": "Python 2",
   "language": "python",
   "name": "python2"
  },
  "language_info": {
   "codemirror_mode": {
    "name": "ipython",
    "version": 2
   },
   "file_extension": ".py",
   "mimetype": "text/x-python",
   "name": "python",
   "nbconvert_exporter": "python",
   "pygments_lexer": "ipython2",
   "version": "2.7.6"
  }
 },
 "nbformat": 4,
 "nbformat_minor": 0
}
