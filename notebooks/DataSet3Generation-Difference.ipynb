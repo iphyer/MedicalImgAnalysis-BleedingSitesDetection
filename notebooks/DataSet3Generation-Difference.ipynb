{
 "cells": [
  {
   "cell_type": "code",
   "execution_count": 1,
   "metadata": {},
   "outputs": [],
   "source": [
    "raw_root_dir = \"./data/DataSet3/raw/\""
   ]
  },
  {
   "cell_type": "code",
   "execution_count": 2,
   "metadata": {},
   "outputs": [],
   "source": [
    "# Processed Results Directory\n",
    "imgDir = \"./data/DataSet3/processed_DataSet_Difference/IMG\"\n",
    "csvDir = \"./data/DataSet3/processed_DataSet_Difference/CSV\"\n",
    "txtDir = \"./data/DataSet3/processed_DataSet_Difference/TXT\""
   ]
  },
  {
   "cell_type": "code",
   "execution_count": 3,
   "metadata": {},
   "outputs": [],
   "source": [
    "import os"
   ]
  },
  {
   "cell_type": "code",
   "execution_count": 5,
   "metadata": {},
   "outputs": [],
   "source": [
    "# Import User Defined Functions in utils\n",
    "from utils.prepare_vaild_singleClass  import createFolder\n",
    "from utils.prepare_vaild_singleClass  import splitFiles_withBBox\n",
    "from utils.prepare_vaild_singleClass  import loopAllImg"
   ]
  },
  {
   "cell_type": "code",
   "execution_count": 6,
   "metadata": {},
   "outputs": [
    {
     "data": {
      "text/plain": [
       "['Bleeding Images Labeled',\n '.DS_Store',\n 'Second Upload Labeled bleed images',\n 'change.log',\n 'Nonbleeding Cases ']"
      ]
     },
     "execution_count": 6,
     "metadata": {},
     "output_type": "execute_result"
    }
   ],
   "source": [
    "os.listdir(raw_root_dir)"
   ]
  },
  {
   "cell_type": "code",
   "execution_count": 33,
   "metadata": {},
   "outputs": [
    {
     "name": "stdout",
     "output_type": "stream",
     "text": [
      "start the pre-processing scripts\nInitialization\nBleeding Images Labeled\n"
     ]
    },
    {
     "name": "stdout",
     "output_type": "stream",
     "text": [
      "generate bbox from CSV \n and pair every JPG with TXT\n"
     ]
    },
    {
     "name": "stdout",
     "output_type": "stream",
     "text": [
      "generate bbox from CSV \n and pair every JPG with TXT\n"
     ]
    },
    {
     "name": "stdout",
     "output_type": "stream",
     "text": [
      "generate bbox from CSV \n and pair every JPG with TXT\n"
     ]
    },
    {
     "name": "stdout",
     "output_type": "stream",
     "text": [
      "generate bbox from CSV \n and pair every JPG with TXT\n"
     ]
    },
    {
     "name": "stdout",
     "output_type": "stream",
     "text": [
      "generate bbox from CSV \n and pair every JPG with TXT\n"
     ]
    },
    {
     "name": "stdout",
     "output_type": "stream",
     "text": [
      "generate bbox from CSV \n and pair every JPG with TXT\n"
     ]
    },
    {
     "name": "stdout",
     "output_type": "stream",
     "text": [
      "generate bbox from CSV \n and pair every JPG with TXT\n"
     ]
    },
    {
     "name": "stdout",
     "output_type": "stream",
     "text": [
      "generate bbox from CSV \n and pair every JPG with TXT\n"
     ]
    },
    {
     "name": "stdout",
     "output_type": "stream",
     "text": [
      "generate bbox from CSV \n and pair every JPG with TXT\n"
     ]
    },
    {
     "name": "stdout",
     "output_type": "stream",
     "text": [
      "generate bbox from CSV \n and pair every JPG with TXT\n"
     ]
    },
    {
     "name": "stdout",
     "output_type": "stream",
     "text": [
      "generate bbox from CSV \n and pair every JPG with TXT\n"
     ]
    },
    {
     "name": "stdout",
     "output_type": "stream",
     "text": [
      "generate bbox from CSV \n and pair every JPG with TXT\n"
     ]
    },
    {
     "name": "stdout",
     "output_type": "stream",
     "text": [
      "generate bbox from CSV \n and pair every JPG with TXT\n"
     ]
    },
    {
     "name": "stdout",
     "output_type": "stream",
     "text": [
      "generate bbox from CSV \n and pair every JPG with TXT\n"
     ]
    },
    {
     "name": "stdout",
     "output_type": "stream",
     "text": [
      "generate bbox from CSV \n and pair every JPG with TXT\n"
     ]
    },
    {
     "name": "stdout",
     "output_type": "stream",
     "text": [
      "generate bbox from CSV \n and pair every JPG with TXT\n"
     ]
    },
    {
     "name": "stdout",
     "output_type": "stream",
     "text": [
      "generate bbox from CSV \n and pair every JPG with TXT\n"
     ]
    },
    {
     "name": "stdout",
     "output_type": "stream",
     "text": [
      "generate bbox from CSV \n and pair every JPG with TXT\n"
     ]
    },
    {
     "name": "stdout",
     "output_type": "stream",
     "text": [
      "generate bbox from CSV \n and pair every JPG with TXT\n"
     ]
    },
    {
     "name": "stdout",
     "output_type": "stream",
     "text": [
      "generate bbox from CSV \n and pair every JPG with TXT\nSecond Upload Labeled bleed images\n"
     ]
    },
    {
     "name": "stdout",
     "output_type": "stream",
     "text": [
      "generate bbox from CSV \n and pair every JPG with TXT\n"
     ]
    },
    {
     "name": "stdout",
     "output_type": "stream",
     "text": [
      "generate bbox from CSV \n and pair every JPG with TXT\n"
     ]
    },
    {
     "name": "stdout",
     "output_type": "stream",
     "text": [
      "generate bbox from CSV \n and pair every JPG with TXT\n"
     ]
    },
    {
     "name": "stdout",
     "output_type": "stream",
     "text": [
      "generate bbox from CSV \n and pair every JPG with TXT\n"
     ]
    },
    {
     "name": "stdout",
     "output_type": "stream",
     "text": [
      "generate bbox from CSV \n and pair every JPG with TXT\n"
     ]
    },
    {
     "name": "stdout",
     "output_type": "stream",
     "text": [
      "generate bbox from CSV \n and pair every JPG with TXT\n"
     ]
    },
    {
     "name": "stdout",
     "output_type": "stream",
     "text": [
      "generate bbox from CSV \n and pair every JPG with TXT\n"
     ]
    },
    {
     "name": "stdout",
     "output_type": "stream",
     "text": [
      "generate bbox from CSV \n and pair every JPG with TXT\n"
     ]
    },
    {
     "name": "stdout",
     "output_type": "stream",
     "text": [
      "generate bbox from CSV \n and pair every JPG with TXT\n"
     ]
    },
    {
     "name": "stdout",
     "output_type": "stream",
     "text": [
      "generate bbox from CSV \n and pair every JPG with TXT\n"
     ]
    },
    {
     "name": "stdout",
     "output_type": "stream",
     "text": [
      "generate bbox from CSV \n and pair every JPG with TXT\n"
     ]
    },
    {
     "name": "stdout",
     "output_type": "stream",
     "text": [
      "generate bbox from CSV \n and pair every JPG with TXT\n"
     ]
    },
    {
     "name": "stdout",
     "output_type": "stream",
     "text": [
      "generate bbox from CSV \n and pair every JPG with TXT\n"
     ]
    },
    {
     "name": "stdout",
     "output_type": "stream",
     "text": [
      "generate bbox from CSV \n and pair every JPG with TXT\n"
     ]
    },
    {
     "name": "stdout",
     "output_type": "stream",
     "text": [
      "generate bbox from CSV \n and pair every JPG with TXT\n"
     ]
    },
    {
     "name": "stdout",
     "output_type": "stream",
     "text": [
      "generate bbox from CSV \n and pair every JPG with TXT\n"
     ]
    },
    {
     "name": "stdout",
     "output_type": "stream",
     "text": [
      "generate bbox from CSV \n and pair every JPG with TXT\n"
     ]
    },
    {
     "name": "stdout",
     "output_type": "stream",
     "text": [
      "generate bbox from CSV \n and pair every JPG with TXT\n"
     ]
    },
    {
     "name": "stdout",
     "output_type": "stream",
     "text": [
      "generate bbox from CSV \n and pair every JPG with TXT\n"
     ]
    },
    {
     "name": "stdout",
     "output_type": "stream",
     "text": [
      "generate bbox from CSV \n and pair every JPG with TXT\n"
     ]
    },
    {
     "name": "stdout",
     "output_type": "stream",
     "text": [
      "generate bbox from CSV \n and pair every JPG with TXT\n"
     ]
    },
    {
     "name": "stdout",
     "output_type": "stream",
     "text": [
      "generate bbox from CSV \n and pair every JPG with TXT\n"
     ]
    },
    {
     "name": "stdout",
     "output_type": "stream",
     "text": [
      "generate bbox from CSV \n and pair every JPG with TXT\n"
     ]
    },
    {
     "name": "stdout",
     "output_type": "stream",
     "text": [
      "generate bbox from CSV \n and pair every JPG with TXT\n"
     ]
    },
    {
     "name": "stdout",
     "output_type": "stream",
     "text": [
      "generate bbox from CSV \n and pair every JPG with TXT\n"
     ]
    },
    {
     "name": "stdout",
     "output_type": "stream",
     "text": [
      "generate bbox from CSV \n and pair every JPG with TXT\n"
     ]
    },
    {
     "name": "stdout",
     "output_type": "stream",
     "text": [
      "generate bbox from CSV \n and pair every JPG with TXT\n"
     ]
    },
    {
     "name": "stdout",
     "output_type": "stream",
     "text": [
      "Nonbleeding Cases \ngenerate bbox from CSV \n and pair every JPG with TXT\n"
     ]
    },
    {
     "name": "stdout",
     "output_type": "stream",
     "text": [
      "generate bbox from CSV \n and pair every JPG with TXT\n"
     ]
    },
    {
     "name": "stdout",
     "output_type": "stream",
     "text": [
      "generate bbox from CSV \n and pair every JPG with TXT\n"
     ]
    },
    {
     "name": "stdout",
     "output_type": "stream",
     "text": [
      "generate bbox from CSV \n and pair every JPG with TXT\n"
     ]
    },
    {
     "name": "stdout",
     "output_type": "stream",
     "text": [
      "generate bbox from CSV \n and pair every JPG with TXT\n"
     ]
    },
    {
     "name": "stdout",
     "output_type": "stream",
     "text": [
      "generate bbox from CSV \n and pair every JPG with TXT\n"
     ]
    },
    {
     "name": "stdout",
     "output_type": "stream",
     "text": [
      "generate bbox from CSV \n and pair every JPG with TXT\n"
     ]
    },
    {
     "name": "stdout",
     "output_type": "stream",
     "text": [
      "generate bbox from CSV \n and pair every JPG with TXT\n"
     ]
    },
    {
     "name": "stdout",
     "output_type": "stream",
     "text": [
      "generate bbox from CSV \n and pair every JPG with TXT\n"
     ]
    },
    {
     "name": "stdout",
     "output_type": "stream",
     "text": [
      "generate bbox from CSV \n and pair every JPG with TXT\n"
     ]
    },
    {
     "name": "stdout",
     "output_type": "stream",
     "text": [
      "generate bbox from CSV \n and pair every JPG with TXT\n"
     ]
    },
    {
     "name": "stdout",
     "output_type": "stream",
     "text": [
      "generate bbox from CSV \n and pair every JPG with TXT\n"
     ]
    },
    {
     "name": "stdout",
     "output_type": "stream",
     "text": [
      "generate bbox from CSV \n and pair every JPG with TXT\n"
     ]
    },
    {
     "name": "stdout",
     "output_type": "stream",
     "text": [
      "generate bbox from CSV \n and pair every JPG with TXT\n"
     ]
    },
    {
     "name": "stdout",
     "output_type": "stream",
     "text": [
      "generate bbox from CSV \n and pair every JPG with TXT\n"
     ]
    },
    {
     "name": "stdout",
     "output_type": "stream",
     "text": [
      "generate bbox from CSV \n and pair every JPG with TXT\n"
     ]
    },
    {
     "name": "stdout",
     "output_type": "stream",
     "text": [
      "generate bbox from CSV \n and pair every JPG with TXT\n"
     ]
    },
    {
     "name": "stdout",
     "output_type": "stream",
     "text": [
      "generate bbox from CSV \n and pair every JPG with TXT\n"
     ]
    },
    {
     "name": "stdout",
     "output_type": "stream",
     "text": [
      "generate bbox from CSV \n and pair every JPG with TXT\n"
     ]
    },
    {
     "name": "stdout",
     "output_type": "stream",
     "text": [
      "generate bbox from CSV \n and pair every JPG with TXT\n"
     ]
    },
    {
     "name": "stdout",
     "output_type": "stream",
     "text": [
      "generate bbox from CSV \n and pair every JPG with TXT\n"
     ]
    },
    {
     "name": "stdout",
     "output_type": "stream",
     "text": [
      "generate bbox from CSV \n and pair every JPG with TXT\n"
     ]
    },
    {
     "name": "stdout",
     "output_type": "stream",
     "text": [
      "generate bbox from CSV \n and pair every JPG with TXT\n"
     ]
    },
    {
     "name": "stdout",
     "output_type": "stream",
     "text": [
      "All Done!\n"
     ]
    }
   ],
   "source": [
    "print(\"start the pre-processing scripts\")\n",
    "print(\"Initialization\")\n",
    "createFolder(imgDir)\n",
    "createFolder(csvDir)\n",
    "createFolder(txtDir)\n",
    "for folder in os.listdir(raw_root_dir):\n",
    "    if (folder != \"change.log\") and (folder !=\".DS_Store\"):\n",
    "        print(folder)\n",
    "        for patient in os.listdir(raw_root_dir + folder):\n",
    "            dataDir = raw_root_dir + folder + '/' + patient\n",
    "            splitFiles_withBBox(dataDir, imgDir, csvDir)\n",
    "            print(\"generate bbox from CSV \\n and pair every JPG with TXT\")\n",
    "            loopAllImg(imgDir, csvDir, txtDir)\n",
    "\n",
    "print(\"All Done!\")"
   ]
  },
  {
   "cell_type": "markdown",
   "metadata": {},
   "source": [
    "## Notes\n",
    "\n",
    "### After finishing this scripts, all the results of generating dataset can be found in `/data/DataSet2/processed/`"
   ]
  },
  {
   "cell_type": "code",
   "execution_count": null,
   "metadata": {},
   "outputs": [],
   "source": []
  }
 ],
 "metadata": {
  "kernelspec": {
   "display_name": "Python 2",
   "language": "python",
   "name": "python2"
  },
  "language_info": {
   "codemirror_mode": {
    "name": "ipython",
    "version": 2
   },
   "file_extension": ".py",
   "mimetype": "text/x-python",
   "name": "python",
   "nbconvert_exporter": "python",
   "pygments_lexer": "ipython2",
   "version": "2.7.6"
  }
 },
 "nbformat": 4,
 "nbformat_minor": 0
}
