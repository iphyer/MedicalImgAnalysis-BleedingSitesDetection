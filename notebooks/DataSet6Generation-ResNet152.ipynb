{
 "cells": [
  {
   "cell_type": "markdown",
   "metadata": {},
   "source": [
    "# Data Set 6 Creation and Process"
   ]
  },
  {
   "cell_type": "code",
   "execution_count": 3,
   "metadata": {},
   "outputs": [],
   "source": [
    "# root directory\n",
    "raw_root_dir = \"./data/DataSet6\""
   ]
  },
  {
   "cell_type": "code",
   "execution_count": 10,
   "metadata": {},
   "outputs": [],
   "source": [
    "os.chdir(\"..\")"
   ]
  },
  {
   "cell_type": "code",
   "execution_count": 23,
   "metadata": {},
   "outputs": [],
   "source": [
    "# Import needed packages\n",
    "import os\n",
    "from skimage import io\n",
    "from shutil import copy\n",
    "# Import User Defined Functions in utils\n",
    "from utils.prepare_classifier import createFolder\n",
    "from utils.prepare_classifier import covertTIF2JPG "
   ]
  },
  {
   "cell_type": "code",
   "execution_count": 24,
   "metadata": {},
   "outputs": [],
   "source": [
    "# Label String\n",
    "class_0_string = \"nonbleeding\"\n",
    "class_1_string = \"bleeding\""
   ]
  },
  {
   "cell_type": "code",
   "execution_count": 27,
   "metadata": {},
   "outputs": [
    {
     "name": "stdout",
     "output_type": "stream",
     "text": [
      "390\n"
     ]
    }
   ],
   "source": [
    "# Processed Results Directory\n",
    "\n",
    "imgId = 1\n",
    "total_num_non_bleeding = 0\n",
    "destDir = \"./data/DataSet6/fasterAI/nonbleeding\"\n",
    "\n",
    "# Process NonBleeding Cases\n",
    "with open ( \"log_NonBleeding.csv\" , 'w' ) as non_csv_file :\n",
    "    for patient in os.listdir(raw_root_dir +'/'+ \"Nonbleeding\" ):\n",
    "        dataDir = raw_root_dir + '/' + \"Nonbleeding\" + '/' + patient\n",
    "        for f in os.listdir ( dataDir ):\n",
    "            fs = f.split ( '.')\n",
    "            if fs[1] == \"tif\":\n",
    "                img_source = dataDir + '/' + fs [ 0 ] + '.tif' \n",
    "                img = io.imread ( img_source )\n",
    "                img_new_name = class_0_string + '.' + str(imgId) + \".jpg\"\n",
    "                io.imsave (  img_new_name , img , quality = 100 )\n",
    "                copy ( img_new_name , destDir )\n",
    "                os.remove(img_new_name)\n",
    "                imgId += 1\n",
    "                # assign labels for this imaegs\n",
    "                non_csv_file.write(\"%s, %s, %s, %d \\n\" % (img_new_name, patient, f, 0))\n",
    "                total_num_non_bleeding += 1\n",
    "print(total_num_non_bleeding)"
   ]
  },
  {
   "cell_type": "code",
   "execution_count": 38,
   "metadata": {},
   "outputs": [],
   "source": [
    "# Processed first part bleeding patients\n",
    "imgId = 1\n",
    "total_num_bleeding = 0\n",
    "destDir = \"./data/DataSet6/fasterAI/bleeding\"\n",
    "# Process NonBleeding Cases\n",
    "with open ( \"log_Bleeding.csv\" , 'w' ) as bleeding_csv_file :\n",
    "    for patient in os.listdir(raw_root_dir +'/'+ \"Bleeding\" ):\n",
    "        dataDir = raw_root_dir + '/' + \"Bleeding\" + '/' + patient\n",
    "        for f in os.listdir ( dataDir ):\n",
    "            fs = f.split ( '.')\n",
    "            if fs[1] == \"tif\" and os.path.exists(dataDir + '/' +fs[0] + '.csv'):\n",
    "                img_source = dataDir + '/' + fs [ 0 ] + '.tif' \n",
    "                img = io.imread ( img_source )\n",
    "                img_new_name = class_1_string + '.' + str(imgId) + \".jpg\"\n",
    "                io.imsave (  img_new_name , img , quality = 100 )\n",
    "                copy ( img_new_name , destDir )\n",
    "                os.remove(img_new_name)\n",
    "                imgId += 1\n",
    "                # assign labels for this imaegs\n",
    "                bleeding_csv_file.write(\"%s, %s, %s, %d \\n\" % (img_new_name, patient, f, 1))\n",
    "                total_num_bleeding += 1\n"
   ]
  },
  {
   "cell_type": "code",
   "execution_count": 39,
   "metadata": {},
   "outputs": [
    {
     "name": "stdout",
     "output_type": "stream",
     "text": [
      "772\n"
     ]
    }
   ],
   "source": [
    "# The second part of the bleeding cases\n",
    "# This code should be executed after the previous cell\n",
    "\n",
    "# Folder \"PatientB\" has been modified to remove all the complexity of the labeling\n",
    "# only left with the postive images and cases\n",
    "\n",
    "destDir = \"./data/DataSet6/fasterAI/bleeding\"\n",
    "\n",
    "# Process NonBleeding Cases\n",
    "with open ( \"log_Bleeding.csv\" , 'a' ) as bleeding_csv_file :\n",
    "    for patient in os.listdir(raw_root_dir +'/'+ \"PatientB\" ):\n",
    "        dataDir = raw_root_dir + '/' + \"PatientB\" + '/' + patient\n",
    "        for f in os.listdir ( dataDir ):\n",
    "            #fs = f.split ( '.')\n",
    "            if f != '.DS_Store':\n",
    "                img_source = dataDir + '/' + f\n",
    "                img = io.imread ( img_source )\n",
    "                img_new_name = class_1_string + '.' + str(imgId) + \".jpg\"\n",
    "                io.imsave (  img_new_name , img , quality = 100 )\n",
    "                copy ( img_new_name , destDir )\n",
    "                os.remove(img_new_name)\n",
    "                imgId += 1\n",
    "                # assign labels for this imaegs\n",
    "                bleeding_csv_file.write(\"%s, %s, %s, %d \\n\" % (img_new_name, patient, f, 1))\n",
    "                total_num_bleeding += 1\n",
    "print(total_num_bleeding)"
   ]
  },
  {
   "cell_type": "code",
   "execution_count": null,
   "metadata": {},
   "outputs": [],
   "source": []
  }
 ],
 "metadata": {
  "kernelspec": {
   "display_name": "Python 3",
   "language": "python",
   "name": "python3"
  },
  "language_info": {
   "codemirror_mode": {
    "name": "ipython",
    "version": 3
   },
   "file_extension": ".py",
   "mimetype": "text/x-python",
   "name": "python",
   "nbconvert_exporter": "python",
   "pygments_lexer": "ipython3",
   "version": "3.6.7"
  }
 },
 "nbformat": 4,
 "nbformat_minor": 2
}