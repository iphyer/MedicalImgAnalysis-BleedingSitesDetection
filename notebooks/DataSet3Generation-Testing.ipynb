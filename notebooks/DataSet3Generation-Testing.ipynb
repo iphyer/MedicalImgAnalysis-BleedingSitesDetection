{
 "cells": [
  {
   "cell_type": "code",
   "execution_count": 1,
   "metadata": {},
   "outputs": [],
   "source": [
    "raw_root_dir = \"./data/DataSet3/raw/Test Cases 1_25_19/Test Images/\""
   ]
  },
  {
   "cell_type": "code",
   "execution_count": 2,
   "metadata": {},
   "outputs": [],
   "source": [
    "# Processed Results Directory\n",
    "imgDir = \"./data/DataSet3/processed_DataSet_Testing/IMG\"\n",
    "csvDir = \"./data/DataSet3/processed_DataSet_Testing/CSV\"\n",
    "txtDir = \"./data/DataSet3/processed_DataSet_Testing/TXT\""
   ]
  },
  {
   "cell_type": "code",
   "execution_count": 3,
   "metadata": {},
   "outputs": [],
   "source": [
    "import os"
   ]
  },
  {
   "cell_type": "code",
   "execution_count": 4,
   "metadata": {},
   "outputs": [],
   "source": [
    "# Import User Defined Functions in utils\n",
    "from utils.prepare_vaild_singleClass  import createFolder\n",
    "from utils.prepare_vaild_singleClass  import splitFiles_withBBox\n",
    "from utils.prepare_vaild_singleClass  import loopAllImg"
   ]
  },
  {
   "cell_type": "code",
   "execution_count": 6,
   "metadata": {},
   "outputs": [
    {
     "data": {
      "text/plain": [
       "['Patient82.csv',\n",
       " 'Patient83.csv',\n",
       " 'Patient81.csv',\n",
       " 'Patient80.csv',\n",
       " '79_2.csv',\n",
       " 'Patient62test.csv',\n",
       " 'Patient78.csv',\n",
       " 'Patient79.csv',\n",
       " 'Patient77.tif',\n",
       " 'Patient76.tif',\n",
       " 'Patient78.tif',\n",
       " 'Patient62test.tif',\n",
       " 'Patient79.tif',\n",
       " '79_2.tif',\n",
       " 'Patient81.tif',\n",
       " 'Patient80.tif',\n",
       " 'Patient82.tif',\n",
       " 'Patient83.tif',\n",
       " 'Patient77.csv',\n",
       " 'Patient76.csv']"
      ]
     },
     "execution_count": 6,
     "metadata": {},
     "output_type": "execute_result"
    }
   ],
   "source": [
    "os.listdir(raw_root_dir)"
   ]
  },
  {
   "cell_type": "code",
   "execution_count": 8,
   "metadata": {},
   "outputs": [
    {
     "name": "stdout",
     "output_type": "stream",
     "text": [
      "start the pre-processing scripts\n",
      "Initialization\n",
      "generate bbox from CSV \n",
      " and pair every JPG with TXT\n",
      "All Done!\n"
     ]
    }
   ],
   "source": [
    "print(\"start the pre-processing scripts\")\n",
    "print(\"Initialization\")\n",
    "createFolder(imgDir)\n",
    "createFolder(csvDir)\n",
    "createFolder(txtDir)\n",
    "# for folder in os.listdir(raw_root_dir):\n",
    "#     if folder != \"change.log\":\n",
    "#         print(folder)\n",
    "\n",
    "dataDir = raw_root_dir \n",
    "splitFiles_withBBox(dataDir, imgDir, csvDir)\n",
    "print(\"generate bbox from CSV \\n and pair every JPG with TXT\")\n",
    "loopAllImg(imgDir, csvDir, txtDir)\n",
    "\n",
    "print(\"All Done!\")"
   ]
  },
  {
   "cell_type": "markdown",
   "metadata": {},
   "source": [
    "## Notes\n",
    "\n",
    "### After finishing this scripts, all the results of generating dataset can be found in `/data/DataSet2/processed/`"
   ]
  },
  {
   "cell_type": "code",
   "execution_count": null,
   "metadata": {},
   "outputs": [],
   "source": []
  }
 ],
 "metadata": {
  "kernelspec": {
   "display_name": "Python [conda env:BleedingSites] *",
   "language": "python",
   "name": "conda-env-BleedingSites-py"
  },
  "language_info": {
   "codemirror_mode": {
    "name": "ipython",
    "version": 3
   },
   "file_extension": ".py",
   "mimetype": "text/x-python",
   "name": "python",
   "nbconvert_exporter": "python",
   "pygments_lexer": "ipython3",
   "version": "3.6.7"
  }
 },
 "nbformat": 4,
 "nbformat_minor": 2
}
