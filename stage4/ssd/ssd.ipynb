{
  "nbformat": 4,
  "nbformat_minor": 0,
  "metadata": {
    "colab": {
      "name": "Untitled31.ipynb",
      "provenance": []
    },
    "kernelspec": {
      "name": "python3",
      "display_name": "Python 3"
    },
    "accelerator": "GPU"
  },
  "cells": [
    {
      "cell_type": "code",
      "metadata": {
        "id": "8GMupQ1Tw9IV",
        "colab_type": "code",
        "colab": {
          "base_uri": "https://localhost:8080/",
          "height": 547
        },
        "outputId": "4121d0ab-1643-4ed7-bd1f-c7dc348f881b"
      },
      "source": [
        "!pip install -U mxnet-cu100 gluoncv==0.7.0"
      ],
      "execution_count": 3,
      "outputs": [
        {
          "output_type": "stream",
          "text": [
            "Collecting mxnet-cu100\n",
            "\u001b[?25l  Downloading https://files.pythonhosted.org/packages/cf/49/2876c87397592fdb2cca87928d538c9969adb7d271927ef36cb69d62fc63/mxnet_cu100-1.7.0-py2.py3-none-manylinux2014_x86_64.whl (827.8MB)\n",
            "\u001b[K     |████████████████████████████████| 827.8MB 15kB/s \n",
            "\u001b[?25hCollecting gluoncv==0.7.0\n",
            "\u001b[?25l  Downloading https://files.pythonhosted.org/packages/fa/81/37a00609cb53da3671adb106b9bc03fb1c029ad5a8db4bc668283e65703d/gluoncv-0.7.0-py2.py3-none-any.whl (752kB)\n",
            "\u001b[K     |████████████████████████████████| 757kB 51.4MB/s \n",
            "\u001b[?25hCollecting graphviz<0.9.0,>=0.8.1\n",
            "  Downloading https://files.pythonhosted.org/packages/53/39/4ab213673844e0c004bed8a0781a0721a3f6bb23eb8854ee75c236428892/graphviz-0.8.4-py2.py3-none-any.whl\n",
            "Requirement already satisfied, skipping upgrade: requests<3,>=2.20.0 in /usr/local/lib/python3.6/dist-packages (from mxnet-cu100) (2.23.0)\n",
            "Requirement already satisfied, skipping upgrade: numpy<2.0.0,>1.16.0 in /usr/local/lib/python3.6/dist-packages (from mxnet-cu100) (1.18.5)\n",
            "Requirement already satisfied, skipping upgrade: tqdm in /usr/local/lib/python3.6/dist-packages (from gluoncv==0.7.0) (4.41.1)\n",
            "Requirement already satisfied, skipping upgrade: matplotlib in /usr/local/lib/python3.6/dist-packages (from gluoncv==0.7.0) (3.2.2)\n",
            "Requirement already satisfied, skipping upgrade: Pillow in /usr/local/lib/python3.6/dist-packages (from gluoncv==0.7.0) (7.0.0)\n",
            "Collecting portalocker\n",
            "  Downloading https://files.pythonhosted.org/packages/89/a6/3814b7107e0788040870e8825eebf214d72166adf656ba7d4bf14759a06a/portalocker-2.0.0-py2.py3-none-any.whl\n",
            "Requirement already satisfied, skipping upgrade: scipy in /usr/local/lib/python3.6/dist-packages (from gluoncv==0.7.0) (1.4.1)\n",
            "Requirement already satisfied, skipping upgrade: chardet<4,>=3.0.2 in /usr/local/lib/python3.6/dist-packages (from requests<3,>=2.20.0->mxnet-cu100) (3.0.4)\n",
            "Requirement already satisfied, skipping upgrade: idna<3,>=2.5 in /usr/local/lib/python3.6/dist-packages (from requests<3,>=2.20.0->mxnet-cu100) (2.10)\n",
            "Requirement already satisfied, skipping upgrade: certifi>=2017.4.17 in /usr/local/lib/python3.6/dist-packages (from requests<3,>=2.20.0->mxnet-cu100) (2020.6.20)\n",
            "Requirement already satisfied, skipping upgrade: urllib3!=1.25.0,!=1.25.1,<1.26,>=1.21.1 in /usr/local/lib/python3.6/dist-packages (from requests<3,>=2.20.0->mxnet-cu100) (1.24.3)\n",
            "Requirement already satisfied, skipping upgrade: kiwisolver>=1.0.1 in /usr/local/lib/python3.6/dist-packages (from matplotlib->gluoncv==0.7.0) (1.2.0)\n",
            "Requirement already satisfied, skipping upgrade: pyparsing!=2.0.4,!=2.1.2,!=2.1.6,>=2.0.1 in /usr/local/lib/python3.6/dist-packages (from matplotlib->gluoncv==0.7.0) (2.4.7)\n",
            "Requirement already satisfied, skipping upgrade: cycler>=0.10 in /usr/local/lib/python3.6/dist-packages (from matplotlib->gluoncv==0.7.0) (0.10.0)\n",
            "Requirement already satisfied, skipping upgrade: python-dateutil>=2.1 in /usr/local/lib/python3.6/dist-packages (from matplotlib->gluoncv==0.7.0) (2.8.1)\n",
            "Requirement already satisfied, skipping upgrade: six in /usr/local/lib/python3.6/dist-packages (from cycler>=0.10->matplotlib->gluoncv==0.7.0) (1.15.0)\n",
            "Installing collected packages: graphviz, mxnet-cu100, portalocker, gluoncv\n",
            "  Found existing installation: graphviz 0.10.1\n",
            "    Uninstalling graphviz-0.10.1:\n",
            "      Successfully uninstalled graphviz-0.10.1\n",
            "Successfully installed gluoncv-0.7.0 graphviz-0.8.4 mxnet-cu100-1.7.0 portalocker-2.0.0\n"
          ],
          "name": "stdout"
        }
      ]
    },
    {
      "cell_type": "code",
      "metadata": {
        "id": "vlGixJjkxh01",
        "colab_type": "code",
        "colab": {
          "base_uri": "https://localhost:8080/",
          "height": 34
        },
        "outputId": "9e38ca4f-bff4-4261-e087-b7db94925e67"
      },
      "source": [
        "from google.colab import drive\n",
        "drive.mount('/content/drive')"
      ],
      "execution_count": 2,
      "outputs": [
        {
          "output_type": "stream",
          "text": [
            "Mounted at /content/drive\n"
          ],
          "name": "stdout"
        }
      ]
    },
    {
      "cell_type": "code",
      "metadata": {
        "id": "MbDjtaltxqG_",
        "colab_type": "code",
        "colab": {
          "base_uri": "https://localhost:8080/",
          "height": 34
        },
        "outputId": "e39fb980-8ab2-4f23-823a-ec87c2d9c3dd"
      },
      "source": [
        "cd /content/drive/My Drive/DataSet14_20200429/raw_patient_based/"
      ],
      "execution_count": 4,
      "outputs": [
        {
          "output_type": "stream",
          "text": [
            "/content/drive/My Drive/DataSet14_20200429/raw_patient_based\n"
          ],
          "name": "stdout"
        }
      ]
    },
    {
      "cell_type": "code",
      "metadata": {
        "id": "2COJ30FwlGjU",
        "colab_type": "code",
        "colab": {}
      },
      "source": [
        "!python train_ssd_custom.py --gpus 0 --batch-size 10 --epochs 5"
      ],
      "execution_count": null,
      "outputs": []
    },
    {
      "cell_type": "code",
      "metadata": {
        "id": "LeMUxKXowadf",
        "colab_type": "code",
        "colab": {}
      },
      "source": [
        "from mxnet import gluon\n",
        "from gluoncv import model_zoo, data, utils\n",
        "from matplotlib import pyplot as plt\n",
        "import gluoncv as gcv\n",
        "import numpy as np"
      ],
      "execution_count": 5,
      "outputs": []
    },
    {
      "cell_type": "code",
      "metadata": {
        "id": "8PcetG0qweqG",
        "colab_type": "code",
        "colab": {}
      },
      "source": [
        "net = gcv.model_zoo.get_model('ssd_300_vgg16_atrous_custom', pretrained_base=False, norm_layer=gluon.nn.BatchNorm, classes = np.array(['bleeding_site']))\n",
        "net.load_parameters('ssd_300_vgg16_atrous_custom_best.params')"
      ],
      "execution_count": 6,
      "outputs": []
    },
    {
      "cell_type": "code",
      "metadata": {
        "id": "0dpy6r1mG7wt",
        "colab_type": "code",
        "colab": {
          "base_uri": "https://localhost:8080/",
          "height": 34
        },
        "outputId": "23b5d24a-7930-4d64-c977-fa81e947a95f"
      },
      "source": [
        "cd /content/drive/My Drive/DataSet14_20200429/raw_patient_based/"
      ],
      "execution_count": 10,
      "outputs": [
        {
          "output_type": "stream",
          "text": [
            "/content/drive/My Drive/DataSet14_20200429/raw_patient_based\n"
          ],
          "name": "stdout"
        }
      ]
    },
    {
      "cell_type": "code",
      "metadata": {
        "id": "YHdmpjOYIC8S",
        "colab_type": "code",
        "colab": {
          "base_uri": "https://localhost:8080/",
          "height": 34
        },
        "outputId": "b9ab1314-6736-4b2d-ce39-3092281b6469"
      },
      "source": [
        "im_fname1 = '1_5.tif'\n",
        "im_fname2 = '1_7.tif'\n",
        "im_fname3 = '1_9.tif'\n",
        "im_fname4 = '1_11.tif'\n",
        "im_fname5 = '1_13.tif'\n",
        "im_fname6 = '1_15.tif'\n",
        "im_fname7 = '1_17.tif'\n",
        "im_fname8 = '1_21.tif'\n",
        "im_fname9 = '1_23.tif'\n",
        "im_fname10 = '1_25.tif'\n",
        "im_fname11 = '1_27.tif'\n",
        "im_fname12 = '1_29.tif'\n",
        "im_fname13 = '1_31.tif'\n",
        "im_fname14 = '1_33.tif'\n",
        "im_fname15 = '1_35.tif'\n",
        "im_fname16 = '1_37.tif'\n",
        "imgList = [im_fname1, im_fname2, im_fname3, im_fname4, im_fname5, im_fname6, im_fname7, im_fname8, im_fname9, im_fname10, im_fname11, im_fname12, im_fname13, im_fname14, im_fname15, im_fname16]\n",
        "x, img = data.transforms.presets.ssd.load_test(im_fname5, short=300)\n",
        "print('Shape of pre-processed image:', x[0].shape)"
      ],
      "execution_count": 8,
      "outputs": [
        {
          "output_type": "stream",
          "text": [
            "Shape of pre-processed image: (3, 300, 300)\n"
          ],
          "name": "stdout"
        }
      ]
    },
    {
      "cell_type": "code",
      "metadata": {
        "id": "-QVT4G53IRZZ",
        "colab_type": "code",
        "colab": {
          "base_uri": "https://localhost:8080/",
          "height": 269
        },
        "outputId": "f7d7b759-6042-4689-c1e1-7116c8b9e5b8"
      },
      "source": [
        "#for i in range(0, 16):\n",
        "#x, img = data.transforms.presets.ssd.load_test(im_fname1, short=300)\n",
        "class_IDs, scores, bounding_boxes = net(x)\n",
        "ax = utils.viz.plot_bbox(img, bounding_boxes[0], scores[0],\n",
        "                            class_IDs[0], class_names=net.classes)\n",
        "plt.show()"
      ],
      "execution_count": 26,
      "outputs": [
        {
          "output_type": "display_data",
          "data": {
            "image/png": "[encoded data removed]",
            "text/plain": [
              "<Figure size 432x288 with 1 Axes>"
            ]
          },
          "metadata": {
            "tags": [],
            "needs_background": "light"
          }
        }
      ]
    },
    {
      "cell_type": "code",
      "metadata": {
        "id": "qFfp66CPakxB",
        "colab_type": "code",
        "colab": {
          "base_uri": "https://localhost:8080/",
          "height": 1000
        },
        "outputId": "c1ba1479-3668-4f5c-d056-a8566f2d3faf"
      },
      "source": [
        "print(bounding_boxes[0])\n",
        "print(scores[0])"
      ],
      "execution_count": 27,
      "outputs": [
        {
          "output_type": "stream",
          "text": [
            "\n",
            "[[ 86.4149     91.88018    96.416046  105.639244 ]\n",
            " [ 86.48099   100.18085    97.13887   113.726364 ]\n",
            " [166.47986    98.1559    176.54562   113.714035 ]\n",
            " [118.697044   69.66521   129.02841    83.772934 ]\n",
            " [ -8.460949  278.69675    11.650572  291.77023  ]\n",
            " [199.63976   240.95648   209.29536   254.30557  ]\n",
            " [207.95334   238.81407   217.78275   253.05937  ]\n",
            " [126.531364   69.993546  136.89862    84.46123  ]\n",
            " [ 94.882645   85.036476  104.317245   99.01548  ]\n",
            " [158.27837    98.87873   169.07698   113.75761  ]\n",
            " [267.89807    92.54688   340.38562   262.25043  ]\n",
            " [150.48532   153.89156   185.08322   211.29286  ]\n",
            " [164.00533   159.28548   178.01768   170.30675  ]\n",
            " [-30.64645    -4.4005632  49.85335    23.520493 ]\n",
            " [273.95538   274.0248    317.02728   315.62564  ]\n",
            " [ -3.5075245 257.69785    21.512846  331.3812   ]\n",
            " [166.25777   154.66591   201.73256   211.84258  ]\n",
            " [ -1.9505291 -30.538084   21.691187   41.830193 ]\n",
            " [-25.733948   64.30207   352.09058   238.10077  ]\n",
            " [-14.130865  277.6527     30.698164  317.74017  ]\n",
            " [-21.527569  -24.882263   42.53895    42.993843 ]\n",
            " [273.47232   -14.424134  316.98306    32.647926 ]\n",
            " [ 79.164604  101.58176    89.19192   114.76814  ]\n",
            " [281.70956   257.04565   306.64615   328.49493  ]\n",
            " [ 57.480087  -38.518784  254.48848   359.12854  ]\n",
            " [243.02039   247.65773   356.13995   354.73758  ]\n",
            " [174.58679   -54.105717  352.28632   131.41364  ]\n",
            " [-52.3806    -36.603825   71.31139    83.29472  ]\n",
            " [-27.42992   265.0416     44.371067  326.97824  ]\n",
            " [-77.29935   -19.190756  107.54619    43.495697 ]\n",
            " [-37.63552   251.23164    63.01909   352.3072   ]\n",
            " [-33.534515  282.94028    50.388214  308.946    ]\n",
            " [257.82248    -4.729715  333.73965    20.683851 ]\n",
            " [247.19157   -39.804832  365.01038    74.14457  ]\n",
            " [273.42892   146.4031    316.36313   190.34811  ]\n",
            " [-78.2769    -23.886791  195.61604    80.32851  ]\n",
            " [-66.56338   277.41437   102.23931   334.05792  ]\n",
            " [189.1573     -7.159642  243.70961    22.674355 ]\n",
            " [134.30333   154.01018   169.08458   211.37914  ]\n",
            " [102.95338    85.83024   112.40119    98.95966  ]\n",
            " [ -8.205685  204.7919     25.402142  258.08685  ]\n",
            " [ -8.384869   60.556248   25.8946    114.30542  ]\n",
            " [181.94148   170.22273   217.37392   227.56248  ]\n",
            " [-15.498789  -79.59479    50.898735  103.650635 ]\n",
            " [257.49875   263.8557    328.38242   326.13678  ]\n",
            " [ -3.2901192 246.09827   116.092865  370.23175  ]\n",
            " [114.79965   276.4501    158.4613    316.10007  ]\n",
            " [ 82.57231   276.55768   126.44037   316.95178  ]\n",
            " [259.65427   282.8194    331.65128   308.60406  ]\n",
            " [-24.819407   39.9526     37.01239    73.08256  ]\n",
            " [146.67482   276.2041    190.38206   316.12866  ]\n",
            " [-84.547226  209.55756   134.26277   378.4121   ]\n",
            " [134.12991   202.90205   169.2041    259.57492  ]\n",
            " [294.34833    -4.638164  307.86395     8.718859 ]\n",
            " [267.76514    27.17376   340.11835   197.18369  ]\n",
            " [166.7288     93.5237    176.2137    107.31831  ]\n",
            " [ -8.938135  216.7278     49.05114   404.28937  ]\n",
            " [ 94.58318    93.0027    104.2754    106.30304  ]\n",
            " [-32.079655   75.12255    49.368076  101.835106 ]\n",
            " [142.62656   -39.772015  262.55334    75.56894  ]\n",
            " [113.96327   217.73654   120.06778   223.9331   ]\n",
            " [-39.55505   -41.0396    150.84006   154.47456  ]\n",
            " [220.93916    -7.343963  275.79636    22.343468 ]\n",
            " [159.70776   -24.98915   423.95123    62.80007  ]\n",
            " [ -8.943678   92.558914   25.687483  146.21358  ]\n",
            " [273.6206    114.50778   316.16052   158.64221  ]\n",
            " [-24.726742   23.82956    36.934467   57.17588  ]\n",
            " [135.67987   -24.964996  197.92691    43.503845 ]\n",
            " [-31.633347   90.78249    48.273438  117.70173  ]\n",
            " [181.86394   139.21228   217.61052   196.25171  ]\n",
            " [ 87.229416   85.160995   96.85379    99.91841  ]\n",
            " [178.51253   276.37164   222.72667   315.98187  ]\n",
            " [158.59543   237.5766    168.16577   250.89542  ]\n",
            " [ -7.4667997  47.732693    9.448449   59.342083 ]\n",
            " [ 86.74145   109.16616    97.657875  123.00707  ]\n",
            " [103.81939   -25.021349  165.93307    43.525444 ]\n",
            " [258.96588    54.93441   327.4566    120.173515 ]\n",
            " [ 13.718533   -7.512716   68.358826   22.464535 ]\n",
            " [ 54.374584  266.77884    88.69643   322.3079   ]\n",
            " [134.53433   266.312     168.17319   322.7771   ]\n",
            " [222.69853   198.51212   338.2931    400.63803  ]\n",
            " [195.13232   274.9808    350.21478   337.14474  ]\n",
            " [113.203186  178.74335   155.91501   222.0893   ]\n",
            " [101.99698   202.86731   137.05698   260.07523  ]\n",
            " [ -7.89849    -1.2418256  13.628993   10.57336  ]\n",
            " [101.66567   138.1338    136.93341   196.49623  ]\n",
            " [259.353      22.24274   328.2543     89.01659  ]\n",
            " [145.09114   178.40807   187.51231   222.04225  ]\n",
            " [-24.663342   56.0364     36.99709    89.06382  ]\n",
            " [182.64633   -25.182924  245.77481    43.917274 ]\n",
            " [ 38.41291   266.77246    72.50285   322.53607  ]\n",
            " [  6.2700653 266.5003     40.436626  322.4325   ]\n",
            " [230.69374   -25.767006  294.4651     44.380325 ]\n",
            " [118.386444  203.13681   153.03253   259.96136  ]\n",
            " [100.36041    91.62174   137.24483   146.32162  ]\n",
            " [150.3515    218.93353   185.06024   275.63806  ]\n",
            " [ 97.18305   178.63815   139.567     222.43512  ]\n",
            " [  6.4230957 -25.066227   69.979095   43.81921  ]\n",
            " [197.90656   123.1454    233.34802   180.5868   ]\n",
            " [ 22.451405  266.77567    56.487774  322.42996  ]]\n",
            "<NDArray 100x4 @cpu(0)>\n",
            "\n",
            "[[0.4073418 ]\n",
            " [0.40226847]\n",
            " [0.38818696]\n",
            " [0.3831381 ]\n",
            " [0.37795526]\n",
            " [0.37614882]\n",
            " [0.37204048]\n",
            " [0.36942634]\n",
            " [0.3660058 ]\n",
            " [0.36319825]\n",
            " [0.3629395 ]\n",
            " [0.36191908]\n",
            " [0.3598146 ]\n",
            " [0.35898638]\n",
            " [0.35873827]\n",
            " [0.35745147]\n",
            " [0.35673723]\n",
            " [0.35585698]\n",
            " [0.35566148]\n",
            " [0.355621  ]\n",
            " [0.35545212]\n",
            " [0.3537403 ]\n",
            " [0.35358238]\n",
            " [0.35294133]\n",
            " [0.352546  ]\n",
            " [0.35252267]\n",
            " [0.35105467]\n",
            " [0.34987196]\n",
            " [0.3497334 ]\n",
            " [0.3491893 ]\n",
            " [0.34909964]\n",
            " [0.34769794]\n",
            " [0.34765232]\n",
            " [0.34715   ]\n",
            " [0.34703282]\n",
            " [0.3463914 ]\n",
            " [0.34633854]\n",
            " [0.34625632]\n",
            " [0.34566957]\n",
            " [0.34508324]\n",
            " [0.34470645]\n",
            " [0.344538  ]\n",
            " [0.34354192]\n",
            " [0.3433505 ]\n",
            " [0.34294593]\n",
            " [0.34237638]\n",
            " [0.3414702 ]\n",
            " [0.34048232]\n",
            " [0.33944288]\n",
            " [0.33932295]\n",
            " [0.33866155]\n",
            " [0.33850473]\n",
            " [0.33841935]\n",
            " [0.33788618]\n",
            " [0.3372324 ]\n",
            " [0.33685958]\n",
            " [0.33669606]\n",
            " [0.33586374]\n",
            " [0.33578247]\n",
            " [0.3356511 ]\n",
            " [0.33520564]\n",
            " [0.33432704]\n",
            " [0.33416665]\n",
            " [0.3340934 ]\n",
            " [0.3340015 ]\n",
            " [0.33394998]\n",
            " [0.33372998]\n",
            " [0.33368182]\n",
            " [0.33345714]\n",
            " [0.33320063]\n",
            " [0.33302182]\n",
            " [0.33219042]\n",
            " [0.3314357 ]\n",
            " [0.33011594]\n",
            " [0.33001056]\n",
            " [0.32965896]\n",
            " [0.32926238]\n",
            " [0.32855856]\n",
            " [0.32830557]\n",
            " [0.32822722]\n",
            " [0.32816145]\n",
            " [0.32740805]\n",
            " [0.3270572 ]\n",
            " [0.3270116 ]\n",
            " [0.3266843 ]\n",
            " [0.32639363]\n",
            " [0.32617983]\n",
            " [0.32595795]\n",
            " [0.32588607]\n",
            " [0.3257802 ]\n",
            " [0.32559955]\n",
            " [0.3246213 ]\n",
            " [0.32413384]\n",
            " [0.3240321 ]\n",
            " [0.323978  ]\n",
            " [0.32356018]\n",
            " [0.3231495 ]\n",
            " [0.32255757]\n",
            " [0.3224053 ]\n",
            " [0.32213262]]\n",
            "<NDArray 100x1 @cpu(0)>\n"
          ],
          "name": "stdout"
        }
      ]
    },
    {
      "cell_type": "code",
      "metadata": {
        "id": "FkVS88MBiPPS",
        "colab_type": "code",
        "colab": {}
      },
      "source": [
        "!python crowd_vote.py"
      ],
      "execution_count": 12,
      "outputs": []
    }
  ]
}